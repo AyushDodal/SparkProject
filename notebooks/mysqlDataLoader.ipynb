{
 "cells": [
  {
   "cell_type": "code",
   "execution_count": 4,
   "id": "04462e5c-9ceb-4331-8d10-401a8517bf49",
   "metadata": {},
   "outputs": [
    {
     "name": "stdout",
     "output_type": "stream",
     "text": [
      "Data from MockData/london_customers.csv uploaded to london_customers successfully.\n",
      "Data from MockData/london_inventory.csv uploaded to london_inventory successfully.\n",
      "Data from MockData/london_sales.csv uploaded to london_sales successfully.\n",
      "Data from MockData/paris_clients.csv uploaded to paris_clients successfully.\n",
      "Data from MockData/paris_inventaire.csv uploaded to paris_inventaire successfully.\n",
      "Data from MockData/paris_ventes.csv uploaded to paris_ventes successfully.\n",
      "Data from MockData/nyc_customers.csv uploaded to nyc_customers successfully.\n",
      "Data from MockData/nyc_inventory.csv uploaded to nyc_inventory successfully.\n",
      "Data from MockData/nyc_transactions.csv uploaded to nyc_transactions successfully.\n"
     ]
    }
   ],
   "source": [
    "import pandas as pd\n",
    "import mysql.connector\n",
    "\n",
    "def upload_data_to_mysql(file_path, table_name, column_names, connection_params):\n",
    "    df = pd.read_csv(file_path)\n",
    "    conn = mysql.connector.connect(**connection_params)\n",
    "    cursor = conn.cursor()\n",
    "\n",
    "    # Prepare SQL insert statement\n",
    "    placeholders = ', '.join(['%s'] * len(column_names))\n",
    "    columns = ', '.join(column_names)\n",
    "    sql = f\"INSERT INTO {table_name} ({columns}) VALUES ({placeholders})\"\n",
    "\n",
    "    # Upload data row by row\n",
    "    for row in df.itertuples(index=False):\n",
    "        cursor.execute(sql, tuple(row))\n",
    "\n",
    "    conn.commit()\n",
    "    cursor.close()\n",
    "    conn.close()\n",
    "    print(f\"Data from {file_path} uploaded to {table_name} successfully.\")\n",
    "\n",
    "# Connection parameters for MySQL\n",
    "connection_params_london = {\n",
    "    'host': 'localhost',\n",
    "    'user': '****',\n",
    "    'password': '****',\n",
    "    'database': 'london_db'\n",
    "}\n",
    "\n",
    "connection_params_paris = {\n",
    "    'host': 'localhost',\n",
    "    'user': '****',\n",
    "    'password': '****',\n",
    "    'database': 'paris_db'\n",
    "}\n",
    "\n",
    "connection_params_newyork = {\n",
    "    'host': 'localhost',\n",
    "    'user': '****',\n",
    "    'password': '****',\n",
    "    'database': 'newyork_db'\n",
    "}\n",
    "\n",
    "# Upload data for London\n",
    "upload_data_to_mysql('MockData/london_customers.csv', 'london_customers', ['Customer_ID', 'Customer_Name'], connection_params_london)\n",
    "upload_data_to_mysql('MockData/london_inventory.csv', 'london_inventory', ['Product_ID', 'Product_Name', 'Price'], connection_params_london)\n",
    "upload_data_to_mysql('MockData/london_sales.csv', 'london_sales', ['Order_ID', 'Customer_ID', 'Product_ID', 'Quantity'], connection_params_london)\n",
    "\n",
    "# Upload data for Paris\n",
    "upload_data_to_mysql('MockData/paris_clients.csv', 'paris_clients', ['Identifiant_Client', 'Nom_Client'], connection_params_paris)\n",
    "upload_data_to_mysql('MockData/paris_inventaire.csv', 'paris_inventaire', ['Identifiant_Produit', 'Nom_Produit', 'Prix_Unitaire'], connection_params_paris)\n",
    "upload_data_to_mysql('MockData/paris_ventes.csv', 'paris_ventes', ['Numero_Vente', 'Identifiant_Client', 'Identifiant_Produit', 'Quantité'], connection_params_paris)\n",
    "\n",
    "# Upload data for New York\n",
    "upload_data_to_mysql('MockData/nyc_customers.csv', 'nyc_customers', ['Customer_ID', 'Name'], connection_params_newyork)\n",
    "upload_data_to_mysql('MockData/nyc_inventory.csv', 'nyc_inventory', ['Product_ID', 'Product_Name', 'Unit_Price'], connection_params_newyork)\n",
    "upload_data_to_mysql('MockData/nyc_transactions.csv', 'nyc_transactions', ['Transaction_ID', 'Customer_ID', 'Product_ID', 'Quantity'], connection_params_newyork)\n"
   ]
  }
 ],
 "metadata": {
  "kernelspec": {
   "display_name": "PySpark",
   "language": "python",
   "name": "pyspark_env"
  },
  "language_info": {
   "codemirror_mode": {
    "name": "ipython",
    "version": 3
   },
   "file_extension": ".py",
   "mimetype": "text/x-python",
   "name": "python",
   "nbconvert_exporter": "python",
   "pygments_lexer": "ipython3",
   "version": "3.11.5"
  }
 },
 "nbformat": 4,
 "nbformat_minor": 5
}
