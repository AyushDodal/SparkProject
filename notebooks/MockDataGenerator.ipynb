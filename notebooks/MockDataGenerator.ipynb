{
 "cells": [
  {
   "cell_type": "code",
   "execution_count": null,
   "id": "8db205ec-e5ce-4fff-8280-be6dbf73028e",
   "metadata": {},
   "outputs": [],
   "source": []
  },
  {
   "cell_type": "code",
   "execution_count": null,
   "id": "8c628b95-ce90-4155-988e-dc06d9231c50",
   "metadata": {},
   "outputs": [],
   "source": []
  },
  {
   "cell_type": "code",
   "execution_count": null,
   "id": "43569976-1d5e-4e71-9588-e1a74c86ea7c",
   "metadata": {},
   "outputs": [],
   "source": []
  },
  {
   "cell_type": "code",
   "execution_count": 4,
   "id": "8198c1f0-359c-4b4a-8ce9-75706126b436",
   "metadata": {},
   "outputs": [],
   "source": [
    "import pandas as pd\n",
    "from faker import Faker\n",
    "import random\n",
    "\n",
    "fake = Faker()\n",
    "\n",
    "\n",
    "def generate_london_data(num_records=1000):\n",
    "    # Customers\n",
    "    customers = [{'Customer_ID': i, 'Customer_Name': fake.name()} for i in range(1, num_records + 1)]\n",
    "    pd.DataFrame(customers).to_csv('london_customers.csv', index=False)\n",
    "\n",
    "    # Inventory\n",
    "    inventory = [{'Product_ID': i, 'Product_Name': fake.word(), 'Price': round(fake.random_number(digits=3), 2)} for i in range(1, 501)]\n",
    "    pd.DataFrame(inventory).to_csv('london_inventory.csv', index=False)\n",
    "\n",
    "    # Sales\n",
    "    sales = [{'Order_ID': fake.uuid4(), 'Customer_ID': fake.random_int(min=1, max=num_records), 'Product_ID': fake.random_int(min=1, max=500), 'Quantity': fake.random_digit_not_null()} for _ in range(num_records * 2)]\n",
    "    pd.DataFrame(sales).to_csv('london_sales.csv', index=False)\n",
    "\n",
    "generate_london_data()\n",
    "\n",
    "\n",
    "\n",
    "\n",
    "def generate_paris_data(num_records=1000):\n",
    "    # Clients\n",
    "    clients = [{'Identifiant_Client': i, 'Nom_Client': fake.name()} for i in range(1, num_records + 1)]\n",
    "    pd.DataFrame(clients).to_csv('paris_clients.csv', index=False)\n",
    "\n",
    "    # Inventaire\n",
    "    inventaire = [{'Identifiant_Produit': i, 'Nom_Produit': fake.word(), 'Prix_Unitaire': round(fake.random_number(digits=3), 2)} for i in range(1, 501)]\n",
    "    pd.DataFrame(inventaire).to_csv('paris_inventaire.csv', index=False)\n",
    "\n",
    "    # Ventes\n",
    "    ventes = [{'Numero_Vente': fake.uuid4(), 'Identifiant_Client': fake.random_int(min=1, max=num_records), 'Identifiant_Produit': fake.random_int(min=1, max=500), 'Quantité': fake.random_digit_not_null()} for _ in range(num_records * 2)]\n",
    "    pd.DataFrame(ventes).to_csv('paris_ventes.csv', index=False)\n",
    "\n",
    "generate_paris_data()\n",
    "\n",
    "\n",
    "\n",
    "\n",
    "def generate_newyork_data(num_records=1000):\n",
    "    # Customers\n",
    "    customers = [{'Customer_ID': i, 'Name': fake.name()} for i in range(1, num_records + 1)]\n",
    "    pd.DataFrame(customers).to_csv('nyc_customers.csv', index=False)\n",
    "\n",
    "    # Inventory\n",
    "    inventory = [{'Product_ID': i, 'Product_Name': fake.word(), 'Unit_Price': round(fake.random_number(digits=3), 2)} for i in range(1, 501)]\n",
    "    pd.DataFrame(inventory).to_csv('nyc_inventory.csv', index=False)\n",
    "\n",
    "    # Transactions\n",
    "    transactions = [{'Transaction_ID': fake.uuid4(), 'Customer_ID': fake.random_int(min=1, max=num_records), 'Product_ID': fake.random_int(min=1, max=500), 'Quantity': fake.random_digit_not_null()} for _ in range(num_records * 2)]\n",
    "    pd.DataFrame(transactions).to_csv('nyc_transactions.csv', index=False)\n",
    "\n",
    "generate_newyork_data()\n",
    "\n"
   ]
  }
 ],
 "metadata": {
  "kernelspec": {
   "display_name": "PySpark",
   "language": "python",
   "name": "pyspark_env"
  },
  "language_info": {
   "codemirror_mode": {
    "name": "ipython",
    "version": 3
   },
   "file_extension": ".py",
   "mimetype": "text/x-python",
   "name": "python",
   "nbconvert_exporter": "python",
   "pygments_lexer": "ipython3",
   "version": "3.11.5"
  }
 },
 "nbformat": 4,
 "nbformat_minor": 5
}
